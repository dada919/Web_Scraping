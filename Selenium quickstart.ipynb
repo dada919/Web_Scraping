{
 "cells": [
  {
   "cell_type": "code",
   "execution_count": 8,
   "id": "a9cc8d16",
   "metadata": {},
   "outputs": [
    {
     "name": "stdout",
     "output_type": "stream",
     "text": [
      "Requirement already satisfied: selenium in c:\\users\\pc\\anaconda3\\lib\\site-packages (4.18.1)\n",
      "Requirement already satisfied: certifi in c:\\users\\pc\\anaconda3\\lib\\site-packages (2023.7.22)\n",
      "Note: you may need to restart the kernel to use updated packages.\n"
     ]
    },
    {
     "name": "stderr",
     "output_type": "stream",
     "text": [
      "ERROR: Could not install packages due to an OSError: Could not find a suitable TLS CA certificate bundle, invalid path: /Users/mac/.pyenv/versions/3.7.0/lib/python3.7/site-packages/certifi/cacert.pem\n",
      "\n"
     ]
    }
   ],
   "source": [
    "pip install selenium certifi"
   ]
  },
  {
   "cell_type": "code",
   "execution_count": 12,
   "id": "1a6b4248",
   "metadata": {
    "scrolled": true
   },
   "outputs": [
    {
     "name": "stdout",
     "output_type": "stream",
     "text": [
      "Collecting webdriver_manager\n",
      "  Obtaining dependency information for webdriver_manager from https://files.pythonhosted.org/packages/b1/51/b5c11cf739ac4eecde611794a0ec9df420d0239d51e73bc19eb44f02b48b/webdriver_manager-4.0.1-py2.py3-none-any.whl.metadata\n",
      "  Downloading webdriver_manager-4.0.1-py2.py3-none-any.whl.metadata (12 kB)\n",
      "Requirement already satisfied: requests in c:\\users\\pc\\anaconda3\\lib\\site-packages (from webdriver_manager) (2.31.0)\n",
      "Requirement already satisfied: python-dotenv in c:\\users\\pc\\anaconda3\\lib\\site-packages (from webdriver_manager) (0.21.0)\n",
      "Requirement already satisfied: packaging in c:\\users\\pc\\anaconda3\\lib\\site-packages (from webdriver_manager) (23.1)\n",
      "Requirement already satisfied: charset-normalizer<4,>=2 in c:\\users\\pc\\anaconda3\\lib\\site-packages (from requests->webdriver_manager) (2.0.4)\n",
      "Requirement already satisfied: idna<4,>=2.5 in c:\\users\\pc\\anaconda3\\lib\\site-packages (from requests->webdriver_manager) (3.4)\n",
      "Requirement already satisfied: urllib3<3,>=1.21.1 in c:\\users\\pc\\anaconda3\\lib\\site-packages (from requests->webdriver_manager) (1.26.16)\n",
      "Requirement already satisfied: certifi>=2017.4.17 in c:\\users\\pc\\anaconda3\\lib\\site-packages (from requests->webdriver_manager) (2023.7.22)\n",
      "Downloading webdriver_manager-4.0.1-py2.py3-none-any.whl (27 kB)\n",
      "Installing collected packages: webdriver_manager\n",
      "Successfully installed webdriver_manager-4.0.1\n",
      "Note: you may need to restart the kernel to use updated packages.\n"
     ]
    }
   ],
   "source": [
    "pip install webdriver_manager"
   ]
  },
  {
   "cell_type": "code",
   "execution_count": 38,
   "id": "454e73a7",
   "metadata": {},
   "outputs": [],
   "source": [
    "import os\n",
    "import selenium\n",
    "certi_path = \"/Users/PC/anaconda3/Lib/site-packages/certifi/cacert.pem\"\n",
    "os.environ['REQUESTS_CA_BUNDLE'] = certi_path\n",
    "from selenium.webdriver.common.by import By\n",
    "from selenium import webdriver\n",
    "from selenium.webdriver.chrome.service import Service\n",
    "from webdriver_manager.chrome import ChromeDriverManager\n",
    "from selenium.webdriver.chrome.options import Options\n",
    "\n",
    "#from fp.fp import FreeProxy\n",
    "import requests\n",
    "from bs4 import BeautifulSoup\n",
    "#proxy = FreeProxy(country_id=['FR']).get()\n",
    "\n",
    "options = Options()\n",
    "options.add_argument(\"--disable-extensions\")\n",
    "options.add_argument(\"--ignore-certificate-errors\")\n",
    "#options.add_argument(f'--proxy-server={proxy}')\n",
    "\n",
    "service = Service(ChromeDriverManager().install())\n",
    "driver = webdriver.Chrome(service=service, options=options)\n",
    "\n",
    "driver.implicitly_wait(10)"
   ]
  },
  {
   "cell_type": "code",
   "execution_count": 36,
   "id": "267e9881",
   "metadata": {},
   "outputs": [
    {
     "data": {
      "text/plain": [
       "'http://178.16.130.81:80'"
      ]
     },
     "execution_count": 36,
     "metadata": {},
     "output_type": "execute_result"
    }
   ],
   "source": [
    "proxy"
   ]
  },
  {
   "cell_type": "code",
   "execution_count": 37,
   "id": "fcfcd6e5",
   "metadata": {},
   "outputs": [
    {
     "ename": "TimeoutException",
     "evalue": "Message: \nStacktrace:\n\tGetHandleVerifier [0x01254CE3+225091]\n\t(No symbol) [0x01184E31]\n\t(No symbol) [0x01029A7A]\n\t(No symbol) [0x0106175B]\n\t(No symbol) [0x0106188B]\n\t(No symbol) [0x01097882]\n\t(No symbol) [0x0107F5A4]\n\t(No symbol) [0x01095CB0]\n\t(No symbol) [0x0107F2F6]\n\t(No symbol) [0x010579B9]\n\t(No symbol) [0x0105879D]\n\tsqlite3_dbdata_init [0x016C9A83+4064547]\n\tsqlite3_dbdata_init [0x016D108A+4094762]\n\tsqlite3_dbdata_init [0x016CB988+4072488]\n\tsqlite3_dbdata_init [0x013CC9E9+930953]\n\t(No symbol) [0x01190804]\n\t(No symbol) [0x0118AD28]\n\t(No symbol) [0x0118AE51]\n\t(No symbol) [0x0117CAC0]\n\tBaseThreadInitThunk [0x762AFCC9+25]\n\tRtlGetAppContainerNamedObjectPath [0x76F87C5E+286]\n\tRtlGetAppContainerNamedObjectPath [0x76F87C2E+238]\n",
     "output_type": "error",
     "traceback": [
      "\u001b[1;31m---------------------------------------------------------------------------\u001b[0m",
      "\u001b[1;31mTimeoutException\u001b[0m                          Traceback (most recent call last)",
      "Cell \u001b[1;32mIn[37], line 9\u001b[0m\n\u001b[0;32m      5\u001b[0m driver\u001b[38;5;241m.\u001b[39mget(\u001b[38;5;124m\"\u001b[39m\u001b[38;5;124mhttps://www.amazon.com/Dyson-V10-Allergy-Cordless-Cleaner/dp/B095LD5SWQ/\u001b[39m\u001b[38;5;124m\"\u001b[39m)\n\u001b[0;32m      7\u001b[0m wait \u001b[38;5;241m=\u001b[39m WebDriverWait(driver, \u001b[38;5;241m10\u001b[39m)\n\u001b[1;32m----> 9\u001b[0m title \u001b[38;5;241m=\u001b[39m wait\u001b[38;5;241m.\u001b[39muntil(EC\u001b[38;5;241m.\u001b[39mpresence_of_element_located((By\u001b[38;5;241m.\u001b[39mXPATH, \u001b[38;5;124m'\u001b[39m\u001b[38;5;124m//span[@id=\u001b[39m\u001b[38;5;124m\"\u001b[39m\u001b[38;5;124mproductTitle\u001b[39m\u001b[38;5;124m\"\u001b[39m\u001b[38;5;124m]\u001b[39m\u001b[38;5;124m'\u001b[39m)))\n\u001b[0;32m     10\u001b[0m current_price \u001b[38;5;241m=\u001b[39m wait\u001b[38;5;241m.\u001b[39muntil(EC\u001b[38;5;241m.\u001b[39mpresence_of_element_located((By\u001b[38;5;241m.\u001b[39mXPATH, \u001b[38;5;124m'\u001b[39m\u001b[38;5;124m//div[@id=\u001b[39m\u001b[38;5;124m\"\u001b[39m\u001b[38;5;124mcorePriceDisplay_desktop_feature_div\u001b[39m\u001b[38;5;124m\"\u001b[39m\u001b[38;5;124m]//span[@class=\u001b[39m\u001b[38;5;124m\"\u001b[39m\u001b[38;5;124maok-offscreen\u001b[39m\u001b[38;5;124m\"\u001b[39m\u001b[38;5;124m]\u001b[39m\u001b[38;5;124m'\u001b[39m)))\n\u001b[0;32m     11\u001b[0m image \u001b[38;5;241m=\u001b[39m wait\u001b[38;5;241m.\u001b[39muntil(EC\u001b[38;5;241m.\u001b[39mpresence_of_element_located((By\u001b[38;5;241m.\u001b[39mXPATH, \u001b[38;5;124m'\u001b[39m\u001b[38;5;124m//div[@id=\u001b[39m\u001b[38;5;124m\"\u001b[39m\u001b[38;5;124mimgTagWrapperId\u001b[39m\u001b[38;5;124m\"\u001b[39m\u001b[38;5;124m]/img\u001b[39m\u001b[38;5;124m'\u001b[39m)))\n",
      "File \u001b[1;32m~\\anaconda3\\Lib\\site-packages\\selenium\\webdriver\\support\\wait.py:105\u001b[0m, in \u001b[0;36mWebDriverWait.until\u001b[1;34m(self, method, message)\u001b[0m\n\u001b[0;32m    103\u001b[0m     \u001b[38;5;28;01mif\u001b[39;00m time\u001b[38;5;241m.\u001b[39mmonotonic() \u001b[38;5;241m>\u001b[39m end_time:\n\u001b[0;32m    104\u001b[0m         \u001b[38;5;28;01mbreak\u001b[39;00m\n\u001b[1;32m--> 105\u001b[0m \u001b[38;5;28;01mraise\u001b[39;00m TimeoutException(message, screen, stacktrace)\n",
      "\u001b[1;31mTimeoutException\u001b[0m: Message: \nStacktrace:\n\tGetHandleVerifier [0x01254CE3+225091]\n\t(No symbol) [0x01184E31]\n\t(No symbol) [0x01029A7A]\n\t(No symbol) [0x0106175B]\n\t(No symbol) [0x0106188B]\n\t(No symbol) [0x01097882]\n\t(No symbol) [0x0107F5A4]\n\t(No symbol) [0x01095CB0]\n\t(No symbol) [0x0107F2F6]\n\t(No symbol) [0x010579B9]\n\t(No symbol) [0x0105879D]\n\tsqlite3_dbdata_init [0x016C9A83+4064547]\n\tsqlite3_dbdata_init [0x016D108A+4094762]\n\tsqlite3_dbdata_init [0x016CB988+4072488]\n\tsqlite3_dbdata_init [0x013CC9E9+930953]\n\t(No symbol) [0x01190804]\n\t(No symbol) [0x0118AD28]\n\t(No symbol) [0x0118AE51]\n\t(No symbol) [0x0117CAC0]\n\tBaseThreadInitThunk [0x762AFCC9+25]\n\tRtlGetAppContainerNamedObjectPath [0x76F87C5E+286]\n\tRtlGetAppContainerNamedObjectPath [0x76F87C2E+238]\n"
     ]
    }
   ],
   "source": [
    "from selenium.webdriver.common.by import By\n",
    "from selenium.webdriver.support.ui import WebDriverWait\n",
    "from selenium.webdriver.support import expected_conditions as EC\n",
    "\n",
    "driver.get(\"https://www.amazon.com/Dyson-V10-Allergy-Cordless-Cleaner/dp/B095LD5SWQ/\")\n",
    "\n",
    "wait = WebDriverWait(driver, 10)\n",
    "\n",
    "title = wait.until(EC.presence_of_element_located((By.XPATH, '//span[@id=\"productTitle\"]')))\n",
    "current_price = wait.until(EC.presence_of_element_located((By.XPATH, '//div[@id=\"corePriceDisplay_desktop_feature_div\"]//span[@class=\"aok-offscreen\"]')))\n",
    "image = wait.until(EC.presence_of_element_located((By.XPATH, '//div[@id=\"imgTagWrapperId\"]/img')))\n",
    "\n",
    "product_data = {\n",
    "    'title': title.text,\n",
    "    'current_price': current_price.get_attribute('innerHTML'),\n",
    "    'image_url': image.get_attribute('src')\n",
    "}\n",
    "\n",
    "print(product_data)\n",
    "driver.quit()"
   ]
  },
  {
   "cell_type": "code",
   "execution_count": 39,
   "id": "f2fb74cb",
   "metadata": {},
   "outputs": [],
   "source": [
    "from selenium import webdriver\n",
    "from selenium.webdriver.common.by import By\n",
    "import time \n",
    "\n",
    "password = \"Password123\"\n",
    "username = \"student\"\n",
    "\n",
    "driver.get(\"https://practicetestautomation.com/practice-test-login/\")\n",
    "\n",
    "username_input = driver.find_element(by=By.ID, value=\"username\")\n",
    "username_input.send_keys(username)\n",
    "\n",
    "password_input = driver.find_element(by=By.ID, value=\"password\")\n",
    "password_input.send_keys(password)\n",
    "\n",
    "submit_button = driver.find_element(by=By.ID, value=\"submit\")\n",
    "submit_button.click()\n",
    "\n",
    "time.sleep(3)"
   ]
  },
  {
   "cell_type": "code",
   "execution_count": 40,
   "id": "562b3a5e",
   "metadata": {},
   "outputs": [
    {
     "name": "stdout",
     "output_type": "stream",
     "text": [
      "https://practicetestautomation.com/logged-in-successfully/\n",
      "Test case passed according to https://practicetestautomation.com/practice-test-login/ specifications\n"
     ]
    }
   ],
   "source": [
    "from selenium import webdriver\n",
    "from selenium.webdriver.common.by import By\n",
    "import time \n",
    "\n",
    "password = \"Password123\"\n",
    "username = \"student\"\n",
    "\n",
    "driver.get(\"https://practicetestautomation.com/practice-test-login/\")\n",
    "\n",
    "username_input = driver.find_element(by=By.ID, value=\"username\")\n",
    "username_input.send_keys(username)\n",
    "\n",
    "password_input = driver.find_element(by=By.ID, value=\"password\")\n",
    "password_input.send_keys(password)\n",
    "\n",
    "submit_button = driver.find_element(by=By.ID, value=\"submit\")\n",
    "submit_button.click()\n",
    "\n",
    "time.sleep(3)\n",
    "\n",
    "print(driver.current_url)\n",
    "assert \"practicetestautomation.com/logged-in-successfully/\" in driver.current_url, \"URL check failed\"\n",
    "\n",
    "page_text = driver.find_element(by=By.TAG_NAME, value=\"body\").text\n",
    "assert \"Congratulations\" in page_text or \"Logged In Successfully\" in page_text, \"Text check failed\"\n",
    "\n",
    "logout_button = driver.find_element(by=By.XPATH, value=\"//a[contains(text(), 'Log out')]\")\n",
    "assert logout_button.is_displayed(), \"Log out button not displayed\"\n",
    "\n",
    "print(\"Test case passed according to https://practicetestautomation.com/practice-test-login/ specifications\")"
   ]
  },
  {
   "cell_type": "code",
   "execution_count": null,
   "id": "29125349",
   "metadata": {},
   "outputs": [],
   "source": []
  }
 ],
 "metadata": {
  "kernelspec": {
   "display_name": "Python 3 (ipykernel)",
   "language": "python",
   "name": "python3"
  },
  "language_info": {
   "codemirror_mode": {
    "name": "ipython",
    "version": 3
   },
   "file_extension": ".py",
   "mimetype": "text/x-python",
   "name": "python",
   "nbconvert_exporter": "python",
   "pygments_lexer": "ipython3",
   "version": "3.11.5"
  }
 },
 "nbformat": 4,
 "nbformat_minor": 5
}
